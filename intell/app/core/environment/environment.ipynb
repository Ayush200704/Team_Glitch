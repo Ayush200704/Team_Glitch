{
 "cells": [
  {
   "cell_type": "code",
   "execution_count": null,
   "metadata": {},
   "outputs": [
    {
     "ename": "",
     "evalue": "",
     "output_type": "error",
     "traceback": [
      "\u001b[1;31mRunning cells with 'Python 3.11.7' requires the ipykernel package.\n",
      "\u001b[1;31mRun the following command to install 'ipykernel' into the Python environment. \n",
      "\u001b[1;31mCommand: 'c:/msys64/ucrt64/bin/python.exe -m pip install ipykernel -U --user --force-reinstall'"
     ]
    }
   ],
   "source": [
    "import pandas as pd\n",
    "from sklearn.preprocessing import OneHotEncoder, StandardScaler, LabelEncoder\n",
    "\n",
    "# Load dataset\n",
    "df = pd.read_csv(\"smart_home_mood_data.csv\")  # Adjust path if needed\n",
    "\n",
    "# 1. Inspect dataset (optional)\n",
    "print(df.head())\n",
    "print(\"Missing values:\\n\", df.isnull().sum())\n",
    "print(\"Mood distribution:\\n\", df[\"mood\"].value_counts())\n",
    "\n",
    "# 2. Encode categorical features\n",
    "categorical_features = ['time_of_day', 'music_genre', 'movement']\n",
    "encoder = OneHotEncoder(sparse=False)\n",
    "encoded_cats = encoder.fit_transform(df[categorical_features])\n",
    "encoded_cat_df = pd.DataFrame(encoded_cats, columns=encoder.get_feature_names_out(categorical_features))\n",
    "\n",
    "# 3. Encode mood label\n",
    "label_encoder = LabelEncoder()\n",
    "df['mood_label'] = label_encoder.fit_transform(df['mood'])\n",
    "\n",
    "# 4. Drop original categorical features and 'mood' text\n",
    "df_numerical = df.drop(columns=categorical_features + ['mood'])\n",
    "\n",
    "# 5. Combine numerical and encoded categorical features\n",
    "df_preprocessed = pd.concat([df_numerical.reset_index(drop=True), encoded_cat_df.reset_index(drop=True)], axis=1)\n",
    "\n",
    "# 6. Normalize numerical features\n",
    "numerical_features = ['brightness', 'light_color_temp', 'room_temp', 'sound_level']\n",
    "scaler = StandardScaler()\n",
    "df_preprocessed[numerical_features] = scaler.fit_transform(df_preprocessed[numerical_features])\n",
    "\n",
    "# 7. Final dataset preview\n",
    "print(df_preprocessed.head())\n",
    "\n",
    "# Optional: Save preprocessed dataset\n",
    "df_preprocessed.to_csv(\"smart_home_mood_data_preprocessed.csv\", index=False)\n"
   ]
  }
 ],
 "metadata": {
  "kernelspec": {
   "display_name": "Python 3",
   "language": "python",
   "name": "python3"
  },
  "language_info": {
   "name": "python",
   "version": "3.11.7"
  }
 },
 "nbformat": 4,
 "nbformat_minor": 2
}
