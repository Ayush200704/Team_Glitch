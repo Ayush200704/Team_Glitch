{
  "cells": [
    {
      "cell_type": "code",
      "execution_count": 5,
      "metadata": {
        "colab": {
          "base_uri": "https://localhost:8080/"
        },
        "id": "HKyJpSVykyuf",
        "outputId": "9b14d9f3-9c77-4f1a-d2e9-ed4364dba4e8"
      },
      "outputs": [
        {
          "name": "stdout",
          "output_type": "stream",
          "text": [
            "  time_of_day  brightness  light_color_temp  room_temp  sound_level  \\\n",
            "0     Morning          21              5733       22.1           75   \n",
            "1   Afternoon          41              2002       16.1           59   \n",
            "2   Afternoon           3              3509       21.7           22   \n",
            "3     Evening          73              5699       18.3           28   \n",
            "4     Morning          20              4331       24.7           71   \n",
            "\n",
            "  music_genre movement       mood  \n",
            "0        Jazz     High  Energetic  \n",
            "1         NaN     High   Stressed  \n",
            "2         Pop     High   Stressed  \n",
            "3         Pop      Low    Neutral  \n",
            "4         NaN   Medium   Stressed  \n",
            "Missing values:\n",
            " time_of_day          0\n",
            "brightness           0\n",
            "light_color_temp     0\n",
            "room_temp            0\n",
            "sound_level          0\n",
            "music_genre         21\n",
            "movement             0\n",
            "mood                 0\n",
            "dtype: int64\n",
            "Mood distribution:\n",
            " mood\n",
            "Neutral      47\n",
            "Stressed     37\n",
            "Energetic     8\n",
            "Relaxed       7\n",
            "Sad           1\n",
            "Name: count, dtype: int64\n",
            "   brightness  light_color_temp  room_temp  sound_level  mood_label  \\\n",
            "0   -1.033139          1.355362  -0.206684     1.503132           0   \n",
            "1   -0.306344         -1.659390  -1.679493     0.614033           4   \n",
            "2   -1.687254         -0.441692  -0.304871    -1.442006           4   \n",
            "3    0.856528          1.327889  -1.139463    -1.108594           1   \n",
            "4   -1.069478          0.222507   0.431533     1.280857           4   \n",
            "\n",
            "   time_of_day_Afternoon  time_of_day_Evening  time_of_day_Morning  \\\n",
            "0                    0.0                  0.0                  1.0   \n",
            "1                    1.0                  0.0                  0.0   \n",
            "2                    1.0                  0.0                  0.0   \n",
            "3                    0.0                  1.0                  0.0   \n",
            "4                    0.0                  0.0                  1.0   \n",
            "\n",
            "   time_of_day_Night  music_genre_Classical  music_genre_Jazz  \\\n",
            "0                0.0                    0.0               1.0   \n",
            "1                0.0                    0.0               0.0   \n",
            "2                0.0                    0.0               0.0   \n",
            "3                0.0                    0.0               0.0   \n",
            "4                0.0                    0.0               0.0   \n",
            "\n",
            "   music_genre_Pop  music_genre_Rock  music_genre_nan  movement_High  \\\n",
            "0              0.0               0.0              0.0            1.0   \n",
            "1              0.0               0.0              1.0            1.0   \n",
            "2              1.0               0.0              0.0            1.0   \n",
            "3              1.0               0.0              0.0            0.0   \n",
            "4              0.0               0.0              1.0            0.0   \n",
            "\n",
            "   movement_Low  movement_Medium  \n",
            "0           0.0              0.0  \n",
            "1           0.0              0.0  \n",
            "2           0.0              0.0  \n",
            "3           1.0              0.0  \n",
            "4           0.0              1.0  \n"
          ]
        }
      ],
      "source": [
        "import pandas as pd\n",
        "from sklearn.preprocessing import OneHotEncoder, StandardScaler, LabelEncoder\n",
        "\n",
        "from sklearn.preprocessing import OneHotEncoder\n",
        "\n",
        "\n",
        "\n",
        "# Load dataset\n",
        "df = pd.read_csv(\"smart_home_mood_data.csv\")  # Adjust path if needed\n",
        "\n",
        "# 1. Inspect dataset (optional)\n",
        "print(df.head())\n",
        "print(\"Missing values:\\n\", df.isnull().sum())\n",
        "print(\"Mood distribution:\\n\", df[\"mood\"].value_counts())\n",
        "\n",
        "# 2. Encode categorical features\n",
        "categorical_features = ['time_of_day', 'music_genre', 'movement']\n",
        "\n",
        "# Updated encoder\n",
        "encoder = OneHotEncoder(sparse_output=False)\n",
        "encoded_cats = encoder.fit_transform(df[categorical_features])\n",
        "encoded_cat_df = pd.DataFrame(encoded_cats, columns=encoder.get_feature_names_out(categorical_features))\n",
        "\n",
        "# 3. Encode mood label\n",
        "label_encoder = LabelEncoder()\n",
        "df['mood_label'] = label_encoder.fit_transform(df['mood'])\n",
        "\n",
        "# 4. Drop original categorical features and 'mood' text\n",
        "df_numerical = df.drop(columns=categorical_features + ['mood'])\n",
        "\n",
        "# 5. Combine numerical and encoded categorical features\n",
        "df_preprocessed = pd.concat([df_numerical.reset_index(drop=True), encoded_cat_df.reset_index(drop=True)], axis=1)\n",
        "\n",
        "# 6. Normalize numerical features\n",
        "numerical_features = ['brightness', 'light_color_temp', 'room_temp', 'sound_level']\n",
        "scaler = StandardScaler()\n",
        "df_preprocessed[numerical_features] = scaler.fit_transform(df_preprocessed[numerical_features])\n",
        "\n",
        "# 7. Final dataset preview\n",
        "print(df_preprocessed.head())\n",
        "\n",
        "# Optional: Save preprocessed dataset\n",
        "df_preprocessed.to_csv(\"smart_home_mood_data_preprocessed.csv\", index=False)\n"
      ]
    },
    {
      "cell_type": "code",
      "execution_count": 7,
      "metadata": {
        "id": "dtSF5y7o_wa9"
      },
      "outputs": [],
      "source": [
        "# Remove rare mood classes with < 2 samples\n",
        "rare_moods = df['mood_label'].value_counts()[df['mood_label'].value_counts() < 2].index\n",
        "df = df[~df['mood_label'].isin(rare_moods)]\n"
      ]
    },
    {
      "cell_type": "code",
      "execution_count": 8,
      "metadata": {
        "colab": {
          "base_uri": "https://localhost:8080/"
        },
        "id": "G4FmmlXw_hXu",
        "outputId": "a0cb3bbc-1d85-4e6f-944d-5e78cadeb1c3"
      },
      "outputs": [
        {
          "name": "stdout",
          "output_type": "stream",
          "text": [
            "✅ Accuracy: 0.95\n",
            "\n",
            "Classification Report:\n",
            "               precision    recall  f1-score   support\n",
            "\n",
            "           0       1.00      1.00      1.00         2\n",
            "           1       1.00      0.90      0.95        10\n",
            "           2       1.00      1.00      1.00         1\n",
            "           4       0.88      1.00      0.93         7\n",
            "\n",
            "    accuracy                           0.95        20\n",
            "   macro avg       0.97      0.97      0.97        20\n",
            "weighted avg       0.96      0.95      0.95        20\n",
            "\n",
            "\n",
            "Confusion Matrix:\n",
            " [[2 0 0 0]\n",
            " [0 9 0 1]\n",
            " [0 0 1 0]\n",
            " [0 0 0 7]]\n"
          ]
        }
      ],
      "source": [
        "# Features and target\n",
        "X = df.drop(columns=['mood_label'])\n",
        "y = df['mood_label']\n",
        "\n",
        "# Split dataset\n",
        "X_train, X_test, y_train, y_test = train_test_split(\n",
        "    X, y, test_size=0.2, random_state=42, stratify=y)\n",
        "\n",
        "# Train model\n",
        "model = RandomForestClassifier(n_estimators=100, random_state=42)\n",
        "model.fit(X_train, y_train)\n",
        "\n",
        "# Predict and evaluate\n",
        "y_pred = model.predict(X_test)\n",
        "print(\"✅ Accuracy:\", accuracy_score(y_test, y_pred))\n",
        "print(\"\\nClassification Report:\\n\", classification_report(y_test, y_pred))\n",
        "print(\"\\nConfusion Matrix:\\n\", confusion_matrix(y_test, y_pred))\n"
      ]
    },
    {
      "cell_type": "code",
      "execution_count": 13,
      "metadata": {
        "colab": {
          "base_uri": "https://localhost:8080/"
        },
        "id": "MWtEd-Uv__Bs",
        "outputId": "3e74bc87-3f4b-4d33-84b0-4f6915ec9036"
      },
      "outputs": [
        {
          "name": "stdout",
          "output_type": "stream",
          "text": [
            "🧠 Predicted Mood: Neutral\n"
          ]
        }
      ],
      "source": [
        "import numpy as np\n",
        "\n",
        "# Example live environment input\n",
        "live_input = {\n",
        "    \"time_of_day\": \"Night\",\n",
        "        \"brightness\": 5,\n",
        "        \"light_color_temp\": 1800,\n",
        "        \"room_temp\": 20.0,\n",
        "        \"sound_level\": 10,\n",
        "        \"music_genre\": \"Rock\",\n",
        "        \"movement\": \"Low\"\n",
        "}\n",
        "\n",
        "# Create a one-row DataFrame\n",
        "live_df = pd.DataFrame([live_input])\n",
        "\n",
        "# Fill missing columns for one-hot encoding consistency\n",
        "for col in encoder.get_feature_names_out(['time_of_day', 'music_genre', 'movement']):\n",
        "    live_df[col] = 0\n",
        "\n",
        "# Encode categorical fields\n",
        "cat_encoded = encoder.transform(live_df[categorical_features])\n",
        "cat_encoded_df = pd.DataFrame(cat_encoded, columns=encoder.get_feature_names_out(categorical_features))\n",
        "\n",
        "# Combine numerical features\n",
        "num_features = ['brightness', 'light_color_temp', 'room_temp', 'sound_level']\n",
        "num_scaled = scaler.transform(live_df[num_features])\n",
        "num_scaled_df = pd.DataFrame(num_scaled, columns=num_features)\n",
        "\n",
        "# Concatenate numerical and encoded categorical\n",
        "live_processed = pd.concat([num_scaled_df, cat_encoded_df], axis=1)\n",
        "\n",
        "# Match model feature order (fill missing if needed)\n",
        "for col in X_train.columns:\n",
        "    if col not in live_processed.columns:\n",
        "        live_processed[col] = 0\n",
        "live_processed = live_processed[X_train.columns]  # Reorder columns\n",
        "\n",
        "# Predict\n",
        "pred_label = model.predict(live_processed)[0]\n",
        "\n",
        "# Map back to mood name (based on original label encoding)\n",
        "label_map = {\n",
        "    0: \"Energetic\",\n",
        "    1: \"Neutral\",\n",
        "    2: \"Relaxed\",\n",
        "    4: \"Stressed\"\n",
        "}\n",
        "predicted_mood = label_map[pred_label]\n",
        "\n",
        "print(f\"🧠 Predicted Mood: {predicted_mood}\")\n"
      ]
    },
    {
      "cell_type": "code",
      "execution_count": 14,
      "metadata": {
        "colab": {
          "base_uri": "https://localhost:8080/"
        },
        "id": "kwJ9NDbfA-i7",
        "outputId": "1ec192dc-5012-498e-d72e-28398ce8b8b1"
      },
      "outputs": [
        {
          "data": {
            "text/plain": [
              "['scaler.pkl']"
            ]
          },
          "execution_count": 14,
          "metadata": {},
          "output_type": "execute_result"
        }
      ],
      "source": [
        "import joblib\n",
        "\n",
        "joblib.dump(model, 'mood_model.pkl')\n",
        "joblib.dump(encoder, 'encoder.pkl')\n",
        "joblib.dump(scaler, 'scaler.pkl')\n"
      ]
    }
  ],
  "metadata": {
    "colab": {
      "provenance": []
    },
    "kernelspec": {
      "display_name": "Python 3",
      "name": "python3"
    },
    "language_info": {
      "name": "python",
      "version": "3.11.7"
    }
  },
  "nbformat": 4,
  "nbformat_minor": 0
}
